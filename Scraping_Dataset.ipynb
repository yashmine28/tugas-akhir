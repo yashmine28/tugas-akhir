{
  "nbformat": 4,
  "nbformat_minor": 0,
  "metadata": {
    "colab": {
      "provenance": []
    },
    "kernelspec": {
      "name": "python3",
      "display_name": "Python 3"
    },
    "language_info": {
      "name": "python"
    }
  },
  "cells": [
    {
      "cell_type": "code",
      "execution_count": null,
      "metadata": {
        "id": "w8iamclQBEKI",
        "colab": {
          "base_uri": "https://localhost:8080/"
        },
        "outputId": "45a5bcba-8734-4458-e702-7101712b339d"
      },
      "outputs": [
        {
          "output_type": "stream",
          "name": "stdout",
          "text": [
            "Looking in indexes: https://pypi.org/simple, https://us-python.pkg.dev/colab-wheels/public/simple/\n",
            "Requirement already satisfied: tweepy in /usr/local/lib/python3.7/dist-packages (3.10.0)\n",
            "Requirement already satisfied: six>=1.10.0 in /usr/local/lib/python3.7/dist-packages (from tweepy) (1.15.0)\n",
            "Requirement already satisfied: requests[socks]>=2.11.1 in /usr/local/lib/python3.7/dist-packages (from tweepy) (2.23.0)\n",
            "Requirement already satisfied: requests-oauthlib>=0.7.0 in /usr/local/lib/python3.7/dist-packages (from tweepy) (1.3.1)\n",
            "Requirement already satisfied: oauthlib>=3.0.0 in /usr/local/lib/python3.7/dist-packages (from requests-oauthlib>=0.7.0->tweepy) (3.2.2)\n",
            "Requirement already satisfied: idna<3,>=2.5 in /usr/local/lib/python3.7/dist-packages (from requests[socks]>=2.11.1->tweepy) (2.10)\n",
            "Requirement already satisfied: chardet<4,>=3.0.2 in /usr/local/lib/python3.7/dist-packages (from requests[socks]>=2.11.1->tweepy) (3.0.4)\n",
            "Requirement already satisfied: certifi>=2017.4.17 in /usr/local/lib/python3.7/dist-packages (from requests[socks]>=2.11.1->tweepy) (2022.9.24)\n",
            "Requirement already satisfied: urllib3!=1.25.0,!=1.25.1,<1.26,>=1.21.1 in /usr/local/lib/python3.7/dist-packages (from requests[socks]>=2.11.1->tweepy) (1.24.3)\n",
            "Requirement already satisfied: PySocks!=1.5.7,>=1.5.6 in /usr/local/lib/python3.7/dist-packages (from requests[socks]>=2.11.1->tweepy) (1.7.1)\n",
            "Looking in indexes: https://pypi.org/simple, https://us-python.pkg.dev/colab-wheels/public/simple/\n",
            "Requirement already satisfied: pandas in /usr/local/lib/python3.7/dist-packages (1.3.5)\n",
            "Requirement already satisfied: pytz>=2017.3 in /usr/local/lib/python3.7/dist-packages (from pandas) (2022.5)\n",
            "Requirement already satisfied: python-dateutil>=2.7.3 in /usr/local/lib/python3.7/dist-packages (from pandas) (2.8.2)\n",
            "Requirement already satisfied: numpy>=1.17.3 in /usr/local/lib/python3.7/dist-packages (from pandas) (1.21.6)\n",
            "Requirement already satisfied: six>=1.5 in /usr/local/lib/python3.7/dist-packages (from python-dateutil>=2.7.3->pandas) (1.15.0)\n"
          ]
        }
      ],
      "source": [
        "!pip install tweepy\n",
        "!pip install pandas"
      ]
    },
    {
      "cell_type": "code",
      "source": [
        "import tweepy\n",
        "import pandas as pd\n",
        "from pandas import DataFrame"
      ],
      "metadata": {
        "id": "vaGkK4S3BTaj"
      },
      "execution_count": null,
      "outputs": []
    },
    {
      "cell_type": "code",
      "source": [
        "api_key = \"8hJJYCkyW36zv9i8E5RF2EJBk\"\n",
        "api_secret_key = \"hiLG5FTAXmwraukFCW5vKAy0ZTRMELu4idzV9mMWt7fWNHcJnt\"\n",
        "access_token = \"1502563183449735176-QqPMOnP5hSAd5xKmgVltbgzeXJGHAP\"\n",
        "access_token_secret = \"AsHd4JfNDVnAt6kHHsPgHizOMiToHa6wAX2GOp8Rmbree\""
      ],
      "metadata": {
        "id": "4gfn6m90BrZ4"
      },
      "execution_count": null,
      "outputs": []
    },
    {
      "cell_type": "code",
      "source": [
        "auth = tweepy.OAuthHandler(api_key, api_secret_key)\n",
        "auth.set_access_token(access_token, access_token_secret)\n",
        "api = tweepy.API(auth)"
      ],
      "metadata": {
        "id": "N1Tk69ehXihr"
      },
      "execution_count": null,
      "outputs": []
    },
    {
      "cell_type": "code",
      "source": [
        "api.search?"
      ],
      "metadata": {
        "id": "8feY8z5-1m73"
      },
      "execution_count": null,
      "outputs": []
    },
    {
      "cell_type": "code",
      "source": [
        "#API.search_tweets(q, *, geocode, lang, locale, result_type, count, until, since_id, max_id, include_entities)\n",
        "hs1 = api.search(q=['vaksin covid'], lang='id', count=100, tweet_mode='extended', until='2022-10-28')\n",
        "hs2 = api.search(q=['vaksin covid'], lang='id', count=100, tweet_mode='extended', until='2022-10-29')\n",
        "hs3 = api.search(q=['vaksin covid'], lang='id', count=100, tweet_mode='extended', until='2022-10-30')\n",
        "hs4 = api.search(q=['sinovac'], lang='id', count=100, tweet_mode='extended', until='2022-10-28')\n",
        "hs5 = api.search(q=['sinovac'], lang='id', count=100, tweet_mode='extended', until='2022-10-29')\n",
        "hs6 = api.search(q=['sinovac'], lang='id', count=100, tweet_mode='extended', until='2022-10-30')\n",
        "hs7 = api.search(q=['vaksin booster'], lang='id', count=100, tweet_mode='extended', until='2022-10-28')\n",
        "hs8 = api.search(q=['vaksin booster'], lang='id', count=100, tweet_mode='extended', until='2022-10-29')\n",
        "hs9 = api.search(q=['vaksin booster'], lang='id', count=100, tweet_mode='extended', until='2022-10-30')"
      ],
      "metadata": {
        "id": "bmx_-HKsCeAy"
      },
      "execution_count": null,
      "outputs": []
    },
    {
      "cell_type": "code",
      "source": [
        "dataset=[]\n",
        "for tweet in hs1:\n",
        "  twt_props = {}\n",
        "  twt_props [\"date\"] = tweet.created_at\n",
        "  twt_props [\"user\"] = tweet.user.screen_name\n",
        "  twt_props [\"text\"] = tweet.full_text\n",
        "  dataset.append(twt_props)\n",
        "df1 = pd.DataFrame(dataset)\n",
        "df1 = df1.drop_duplicates( \"text\" , keep='first')"
      ],
      "metadata": {
        "id": "HNfP_lMZB7V5"
      },
      "execution_count": null,
      "outputs": []
    },
    {
      "cell_type": "code",
      "source": [],
      "metadata": {
        "id": "BVCYZqv3DjdA"
      },
      "execution_count": null,
      "outputs": []
    },
    {
      "cell_type": "code",
      "source": [
        "df9.head()"
      ],
      "metadata": {
        "id": "o5rK2C_xz8QA",
        "colab": {
          "base_uri": "https://localhost:8080/",
          "height": 206
        },
        "outputId": "0caa613e-9902-4ba8-f86d-94cd11a99102"
      },
      "execution_count": null,
      "outputs": [
        {
          "output_type": "execute_result",
          "data": {
            "text/plain": [
              "                 date             user  \\\n",
              "0 2022-10-29 23:58:05  FarisAhmadDoni1   \n",
              "1 2022-10-29 23:47:35         digit255   \n",
              "2 2022-10-29 23:39:54     Rianisintaaa   \n",
              "3 2022-10-29 23:39:52         Zlkh2021   \n",
              "6 2022-10-29 22:27:29    OxB4ngGarrW1n   \n",
              "\n",
              "                                                text  \n",
              "0  Yuk yuk vaksin booster bagi yang belum\\n#Virus...  \n",
              "1  @b00km4rkz salah...yg palinh benar segeralah v...  \n",
              "2  RT @PuanGarisLucu: Akhir-akhir ini vaksin lang...  \n",
              "3  @Mastolib6 Iya. Semacam pemicu agar orang2 sak...  \n",
              "6  @missufe Koq samaan ya, ini habis vaksin boost...  "
            ],
            "text/html": [
              "\n",
              "  <div id=\"df-16407c0f-e352-4918-894d-76536cf2c720\">\n",
              "    <div class=\"colab-df-container\">\n",
              "      <div>\n",
              "<style scoped>\n",
              "    .dataframe tbody tr th:only-of-type {\n",
              "        vertical-align: middle;\n",
              "    }\n",
              "\n",
              "    .dataframe tbody tr th {\n",
              "        vertical-align: top;\n",
              "    }\n",
              "\n",
              "    .dataframe thead th {\n",
              "        text-align: right;\n",
              "    }\n",
              "</style>\n",
              "<table border=\"1\" class=\"dataframe\">\n",
              "  <thead>\n",
              "    <tr style=\"text-align: right;\">\n",
              "      <th></th>\n",
              "      <th>date</th>\n",
              "      <th>user</th>\n",
              "      <th>text</th>\n",
              "    </tr>\n",
              "  </thead>\n",
              "  <tbody>\n",
              "    <tr>\n",
              "      <th>0</th>\n",
              "      <td>2022-10-29 23:58:05</td>\n",
              "      <td>FarisAhmadDoni1</td>\n",
              "      <td>Yuk yuk vaksin booster bagi yang belum\\n#Virus...</td>\n",
              "    </tr>\n",
              "    <tr>\n",
              "      <th>1</th>\n",
              "      <td>2022-10-29 23:47:35</td>\n",
              "      <td>digit255</td>\n",
              "      <td>@b00km4rkz salah...yg palinh benar segeralah v...</td>\n",
              "    </tr>\n",
              "    <tr>\n",
              "      <th>2</th>\n",
              "      <td>2022-10-29 23:39:54</td>\n",
              "      <td>Rianisintaaa</td>\n",
              "      <td>RT @PuanGarisLucu: Akhir-akhir ini vaksin lang...</td>\n",
              "    </tr>\n",
              "    <tr>\n",
              "      <th>3</th>\n",
              "      <td>2022-10-29 23:39:52</td>\n",
              "      <td>Zlkh2021</td>\n",
              "      <td>@Mastolib6 Iya. Semacam pemicu agar orang2 sak...</td>\n",
              "    </tr>\n",
              "    <tr>\n",
              "      <th>6</th>\n",
              "      <td>2022-10-29 22:27:29</td>\n",
              "      <td>OxB4ngGarrW1n</td>\n",
              "      <td>@missufe Koq samaan ya, ini habis vaksin boost...</td>\n",
              "    </tr>\n",
              "  </tbody>\n",
              "</table>\n",
              "</div>\n",
              "      <button class=\"colab-df-convert\" onclick=\"convertToInteractive('df-16407c0f-e352-4918-894d-76536cf2c720')\"\n",
              "              title=\"Convert this dataframe to an interactive table.\"\n",
              "              style=\"display:none;\">\n",
              "        \n",
              "  <svg xmlns=\"http://www.w3.org/2000/svg\" height=\"24px\"viewBox=\"0 0 24 24\"\n",
              "       width=\"24px\">\n",
              "    <path d=\"M0 0h24v24H0V0z\" fill=\"none\"/>\n",
              "    <path d=\"M18.56 5.44l.94 2.06.94-2.06 2.06-.94-2.06-.94-.94-2.06-.94 2.06-2.06.94zm-11 1L8.5 8.5l.94-2.06 2.06-.94-2.06-.94L8.5 2.5l-.94 2.06-2.06.94zm10 10l.94 2.06.94-2.06 2.06-.94-2.06-.94-.94-2.06-.94 2.06-2.06.94z\"/><path d=\"M17.41 7.96l-1.37-1.37c-.4-.4-.92-.59-1.43-.59-.52 0-1.04.2-1.43.59L10.3 9.45l-7.72 7.72c-.78.78-.78 2.05 0 2.83L4 21.41c.39.39.9.59 1.41.59.51 0 1.02-.2 1.41-.59l7.78-7.78 2.81-2.81c.8-.78.8-2.07 0-2.86zM5.41 20L4 18.59l7.72-7.72 1.47 1.35L5.41 20z\"/>\n",
              "  </svg>\n",
              "      </button>\n",
              "      \n",
              "  <style>\n",
              "    .colab-df-container {\n",
              "      display:flex;\n",
              "      flex-wrap:wrap;\n",
              "      gap: 12px;\n",
              "    }\n",
              "\n",
              "    .colab-df-convert {\n",
              "      background-color: #E8F0FE;\n",
              "      border: none;\n",
              "      border-radius: 50%;\n",
              "      cursor: pointer;\n",
              "      display: none;\n",
              "      fill: #1967D2;\n",
              "      height: 32px;\n",
              "      padding: 0 0 0 0;\n",
              "      width: 32px;\n",
              "    }\n",
              "\n",
              "    .colab-df-convert:hover {\n",
              "      background-color: #E2EBFA;\n",
              "      box-shadow: 0px 1px 2px rgba(60, 64, 67, 0.3), 0px 1px 3px 1px rgba(60, 64, 67, 0.15);\n",
              "      fill: #174EA6;\n",
              "    }\n",
              "\n",
              "    [theme=dark] .colab-df-convert {\n",
              "      background-color: #3B4455;\n",
              "      fill: #D2E3FC;\n",
              "    }\n",
              "\n",
              "    [theme=dark] .colab-df-convert:hover {\n",
              "      background-color: #434B5C;\n",
              "      box-shadow: 0px 1px 3px 1px rgba(0, 0, 0, 0.15);\n",
              "      filter: drop-shadow(0px 1px 2px rgba(0, 0, 0, 0.3));\n",
              "      fill: #FFFFFF;\n",
              "    }\n",
              "  </style>\n",
              "\n",
              "      <script>\n",
              "        const buttonEl =\n",
              "          document.querySelector('#df-16407c0f-e352-4918-894d-76536cf2c720 button.colab-df-convert');\n",
              "        buttonEl.style.display =\n",
              "          google.colab.kernel.accessAllowed ? 'block' : 'none';\n",
              "\n",
              "        async function convertToInteractive(key) {\n",
              "          const element = document.querySelector('#df-16407c0f-e352-4918-894d-76536cf2c720');\n",
              "          const dataTable =\n",
              "            await google.colab.kernel.invokeFunction('convertToInteractive',\n",
              "                                                     [key], {});\n",
              "          if (!dataTable) return;\n",
              "\n",
              "          const docLinkHtml = 'Like what you see? Visit the ' +\n",
              "            '<a target=\"_blank\" href=https://colab.research.google.com/notebooks/data_table.ipynb>data table notebook</a>'\n",
              "            + ' to learn more about interactive tables.';\n",
              "          element.innerHTML = '';\n",
              "          dataTable['output_type'] = 'display_data';\n",
              "          await google.colab.output.renderOutput(dataTable, element);\n",
              "          const docLink = document.createElement('div');\n",
              "          docLink.innerHTML = docLinkHtml;\n",
              "          element.appendChild(docLink);\n",
              "        }\n",
              "      </script>\n",
              "    </div>\n",
              "  </div>\n",
              "  "
            ]
          },
          "metadata": {},
          "execution_count": 54
        }
      ]
    },
    {
      "cell_type": "code",
      "source": [
        "df = pd.concat([df1,df2,df3,df4,df5,df6,df7,df8,df9], axis=0, ignore_index=True)\n",
        "df.shape"
      ],
      "metadata": {
        "colab": {
          "base_uri": "https://localhost:8080/"
        },
        "id": "uxCugS3nzsks",
        "outputId": "d035e727-3dd7-4e2b-d824-f82af86d1ea9"
      },
      "execution_count": null,
      "outputs": [
        {
          "output_type": "execute_result",
          "data": {
            "text/plain": [
              "(667, 3)"
            ]
          },
          "metadata": {},
          "execution_count": 55
        }
      ]
    },
    {
      "cell_type": "code",
      "source": [
        "import re\n",
        "def link(df):\n",
        "  c1 = re.findall('http\\S+', df.text)\n",
        "  return c1\n",
        "df['link'] = df.apply(link, axis=1)"
      ],
      "metadata": {
        "id": "LuhrpEtexK7I"
      },
      "execution_count": null,
      "outputs": []
    },
    {
      "cell_type": "code",
      "source": [
        "df = df.drop_duplicates( \"text\" , keep='first')"
      ],
      "metadata": {
        "id": "Dg0UFnTaxuSI"
      },
      "execution_count": null,
      "outputs": []
    },
    {
      "cell_type": "code",
      "source": [
        "df.shape"
      ],
      "metadata": {
        "colab": {
          "base_uri": "https://localhost:8080/"
        },
        "id": "P_EohZyMX1vS",
        "outputId": "1646b252-ac3b-4eaf-b135-8a783f806b31"
      },
      "execution_count": null,
      "outputs": [
        {
          "output_type": "execute_result",
          "data": {
            "text/plain": [
              "(526, 3)"
            ]
          },
          "metadata": {},
          "execution_count": 57
        }
      ]
    },
    {
      "cell_type": "code",
      "source": [
        "df.to_csv('dataset link lagi 2.csv', sep=';' ,index=False)"
      ],
      "metadata": {
        "id": "QvhIfdFi19Dc"
      },
      "execution_count": null,
      "outputs": []
    }
  ]
}